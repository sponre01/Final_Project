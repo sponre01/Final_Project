{
 "cells": [
  {
   "cell_type": "code",
   "execution_count": null,
   "metadata": {},
   "outputs": [],
   "source": [
    "import pandas as pd\n",
    "import seaborn as sns\n",
    "import matplotlib.pyplot as plt\n",
    "from sklearn.ensemble import RandomForestClassifier\n",
    "from sklearn.svm import SVC\n",
    "from sklearn.linear_model import SGDClassifier\n",
    "from sklearn.metrics import confusion_matrix, classification_report\n",
    "from sklearn.preprocessing import StandardScaler, LabelEncoder\n",
    "from sklearn.model_selection import train_test_split, GridSearchCV, cross_val_score\n",
    "%matplotlib inline"
   ]
  },
  {
   "cell_type": "code",
   "execution_count": null,
   "metadata": {},
   "outputs": [],
   "source": [
    "citibikes_2018_spring_file = \"JC-201804-citibike-tripdata.csv\"\n",
    "citibikes_2018_summer_file = \"JC-201808-citibike-tripdata.csv\"\n",
    "citibikes_2018_winter_file = \"JC-201812-citibike-tripdata.csv\"\n",
    "citibikes_2019_spring_file = \"JC-201903-citibike-tripdata.csv\"\n",
    "\n",
    "citibikes_2018_spring_df = pd.read_csv(citibikes_2018_spring_file)\n",
    "citibikes_2018_summer_df = pd.read_csv(citibikes_2018_summer_file)\n",
    "citibikes_2018_winter_df = pd.read_csv(citibikes_2018_winter_file)\n",
    "citibikes_2019_spring_df = pd.read_csv(citibikes_2019_spring_file)\n",
    "\n",
    "citibikes_2018_spring_summer_df = citibikes_2018_spring_df.append(citibikes_2018_summer_df)\n",
    "citibikes_2018_spring_summer_winter_df = citibikes_2018_spring_summer_df.append(citibikes_2018_winter_df)\n",
    "citibikes_2018_2019_spring_df = citibikes_2018_spring_df.append(citibikes_2019_spring_df)\n",
    "bikes_info_df = citibikes_2018_2019_spring_df.append(citibikes_2018_spring_summer_winter_df)\n",
    "#citibikes_2018_2019_spring_df.head()\n",
    "#citibikes_2018_spring_summer_winter_df.head()\n",
    "#bikes_info_df\n",
    "bikes_info = bikes_info_df.drop(columns= [\"start station id\", 'start station name', 'end station id', 'end station name', 'bikeid'])\n",
    "#bikes_info.head()\n",
    "bikes_info_clean = bikes_info.dropna(axis=0)\n",
    "#bikes_info_clean.head()\n",
    "bikes_info_clean.to_csv('bikes_info_clean.csv')\n"
   ]
  },
  {
   "cell_type": "code",
   "execution_count": null,
   "metadata": {},
   "outputs": [],
   "source": [
    "bikes_info_clean.info"
   ]
  },
  {
   "cell_type": "code",
   "execution_count": null,
   "metadata": {},
   "outputs": [],
   "source": [
    "fig = plt.figure(figsize = (10,6))\n",
    "sns.barplot(x = 'tripduration', y = 'birth year', data = bikes_info_clean)"
   ]
  },
  {
   "cell_type": "code",
   "execution_count": null,
   "metadata": {},
   "outputs": [],
   "source": [
    "fig = plt.figure(figsize = (10,6))\n",
    "sns.barplot(x = 'tripduration', y = 'gender', data = bikes_info_clean)"
   ]
  },
  {
   "cell_type": "code",
   "execution_count": null,
   "metadata": {},
   "outputs": [],
   "source": [
    "fig = plt.figure(figsize = (10,6))\n",
    "sns.barplot(x = 'tripduration', y = 'usertype', data = bikes_info_clean)"
   ]
  },
  {
   "cell_type": "code",
   "execution_count": null,
   "metadata": {},
   "outputs": [],
   "source": [
    "fig = plt.figure(figsize = (10,6))\n",
    "sns.scatterplot(x = 'tripduration', y = 'starttime', data = bikes_info_clean)"
   ]
  },
  {
   "cell_type": "code",
   "execution_count": null,
   "metadata": {},
   "outputs": [],
   "source": [
    "fig = plt.figure(figsize = (10,6))\n",
    "sns.scatterplot(x = 'gender', y = 'starttime', data = bikes_info_clean)"
   ]
  },
  {
   "cell_type": "code",
   "execution_count": 7,
   "metadata": {},
   "outputs": [],
   "source": [
    "#Making binary classificaion for the response variable.\n",
    "#Dividing birth year as under20,30,40,....,80, over 80 and bad by giving the limit for the quality\n",
    "bins = (20, 30, 40, 50, 60, 70, 80, 150)\n",
    "group_names = ['19 or younger', '20s', '30s','40s', '50s','60s', '70s']\n",
    "bikes_info_clean['birth year'] = pd.cut(bikes_info_clean['birth year'], bins = bins, labels = group_names)"
   ]
  },
  {
   "cell_type": "code",
   "execution_count": 8,
   "metadata": {},
   "outputs": [],
   "source": [
    "#assign a labels to our quality variable\n",
    "label_quality = LabelEncoder()"
   ]
  },
  {
   "cell_type": "code",
   "execution_count": 9,
   "metadata": {},
   "outputs": [],
   "source": [
    "#Bad becomes 0 and good becomes 1 \n",
    "bikes_info_clean['birth year'] = label_quality.fit_transform(bikes_info_clean['birth year'])"
   ]
  },
  {
   "cell_type": "code",
   "execution_count": 10,
   "metadata": {},
   "outputs": [
    {
     "data": {
      "text/plain": [
       "2047      1\n",
       "62772     1\n",
       "25894     1\n",
       "27943     1\n",
       "5416      1\n",
       "7465      1\n",
       "1322      1\n",
       "3371      1\n",
       "13612     1\n",
       "15661     1\n",
       "9518      1\n",
       "11567     1\n",
       "54576     1\n",
       "56625     1\n",
       "50482     1\n",
       "52531     1\n",
       "64821     1\n",
       "85507     1\n",
       "58678     1\n",
       "60727     1\n",
       "38200     1\n",
       "40249     1\n",
       "34106     1\n",
       "36155     1\n",
       "46396     1\n",
       "48445     1\n",
       "42302     1\n",
       "44351     1\n",
       "132458    1\n",
       "134507    1\n",
       "         ..\n",
       "51916     1\n",
       "49869     1\n",
       "56014     1\n",
       "53967     1\n",
       "10960     1\n",
       "8913      1\n",
       "15058     1\n",
       "13011     1\n",
       "2772      1\n",
       "725       1\n",
       "6870      1\n",
       "4823      1\n",
       "27352     1\n",
       "25305     1\n",
       "31450     1\n",
       "29403     1\n",
       "19164     1\n",
       "17117     1\n",
       "23262     1\n",
       "21215     1\n",
       "109280    1\n",
       "107233    1\n",
       "113378    1\n",
       "111331    1\n",
       "101092    1\n",
       "99045     1\n",
       "105190    1\n",
       "103143    1\n",
       "125672    1\n",
       "0         1\n",
       "Name: birth year, Length: 135511, dtype: int64"
      ]
     },
     "execution_count": 10,
     "metadata": {},
     "output_type": "execute_result"
    }
   ],
   "source": [
    "bikes_info_clean['birth year'].value_counts()"
   ]
  },
  {
   "cell_type": "code",
   "execution_count": null,
   "metadata": {},
   "outputs": [],
   "source": [
    "sns.countplot(bikes_info_clean['birth year'])"
   ]
  },
  {
   "cell_type": "code",
   "execution_count": null,
   "metadata": {},
   "outputs": [],
   "source": [
    "#Now seperate the dataset as response variable and feature variabes\n",
    "X = bikes_info_clean.drop('birth year', axis = 1)\n",
    "y = bikes_info_clean['birth year']"
   ]
  },
  {
   "cell_type": "code",
   "execution_count": null,
   "metadata": {},
   "outputs": [],
   "source": [
    "#Train and Test splitting of data \n",
    "X_train, X_test, y_train, y_test = train_test_split(X, y, test_size = 0.2, random_state = 42)"
   ]
  },
  {
   "cell_type": "code",
   "execution_count": null,
   "metadata": {},
   "outputs": [],
   "source": [
    "#Applying Standard scaling to get optimized result\n",
    "sc = StandardScaler()"
   ]
  },
  {
   "cell_type": "code",
   "execution_count": null,
   "metadata": {},
   "outputs": [],
   "source": [
    "X_train = sc.fit_transform(X_train)\n",
    "X_test = sc.fit_transform(X_test)"
   ]
  },
  {
   "cell_type": "markdown",
   "metadata": {},
   "source": [
    "Random Forest Classifier"
   ]
  },
  {
   "cell_type": "code",
   "execution_count": null,
   "metadata": {},
   "outputs": [],
   "source": [
    "rfc = RandomForestClassifier(n_estimators=200)\n",
    "rfc.fit(X_train, y_train)\n",
    "pred_rfc = rfc.predict(X_test)"
   ]
  },
  {
   "cell_type": "code",
   "execution_count": null,
   "metadata": {},
   "outputs": [],
   "source": [
    "#see how our model performed\n",
    "print(classification_report(y_test, pred_rfc))"
   ]
  },
  {
   "cell_type": "code",
   "execution_count": null,
   "metadata": {},
   "outputs": [],
   "source": [
    "#Confusion matrix for the random forest classification\n",
    "print(confusion_matrix(y_test, pred_rfc))"
   ]
  },
  {
   "cell_type": "code",
   "execution_count": null,
   "metadata": {},
   "outputs": [],
   "source": [
    "sgd = SGDClassifier(penalty=None)\n",
    "sgd.fit(X_train, y_train)\n",
    "pred_sgd = sgd.predict(X_test)"
   ]
  },
  {
   "cell_type": "code",
   "execution_count": null,
   "metadata": {},
   "outputs": [],
   "source": [
    "print(classification_report(y_test, pred_sgd))"
   ]
  },
  {
   "cell_type": "code",
   "execution_count": null,
   "metadata": {},
   "outputs": [],
   "source": [
    "print(confusion_matrix(y_test, pred_sgd))"
   ]
  },
  {
   "cell_type": "markdown",
   "metadata": {},
   "source": [
    "Support Vector Classifier\n"
   ]
  },
  {
   "cell_type": "code",
   "execution_count": null,
   "metadata": {},
   "outputs": [],
   "source": [
    "svc = SVC()\n",
    "svc.fit(X_train, y_train)\n",
    "pred_svc = svc.predict(X_test)"
   ]
  },
  {
   "cell_type": "code",
   "execution_count": null,
   "metadata": {},
   "outputs": [],
   "source": [
    "print(classification_report(y_test, pred_svc))"
   ]
  },
  {
   "cell_type": "markdown",
   "metadata": {},
   "source": [
    "to increase our accuracy of models\n",
    "Grid Search CV"
   ]
  },
  {
   "cell_type": "code",
   "execution_count": null,
   "metadata": {},
   "outputs": [],
   "source": [
    "#Finding best parameters for our SVC model =========> NEEDS TWEEKING\n",
    "param = {\n",
    "    'C': [0.1,0.8,0.9,1,1.1,1.2,1.3,1.4],\n",
    "    'kernel':['linear', 'rbf'],\n",
    "    'gamma' :[0.1,0.8,0.9,1,1.1,1.2,1.3,1.4]\n",
    "}\n",
    "grid_svc = GridSearchCV(svc, param_grid=param, scoring='accuracy', cv=10)"
   ]
  },
  {
   "cell_type": "code",
   "execution_count": null,
   "metadata": {},
   "outputs": [],
   "source": [
    "grid_svc.fit(X_train, y_train)"
   ]
  },
  {
   "cell_type": "code",
   "execution_count": null,
   "metadata": {},
   "outputs": [],
   "source": [
    "#Best parameters for our svc model\n",
    "grid_svc.best_params_"
   ]
  },
  {
   "cell_type": "code",
   "execution_count": null,
   "metadata": {},
   "outputs": [],
   "source": [
    "#run  SVC again with the best parameters.\n",
    "svc2 = SVC(C = 1.2, gamma =  0.9, kernel= 'rbf')\n",
    "svc2.fit(X_train, y_train)\n",
    "pred_svc2 = svc2.predict(X_test)\n",
    "print(classification_report(y_test, pred_svc2))"
   ]
  },
  {
   "cell_type": "markdown",
   "metadata": {},
   "source": [
    "Cross Validation Score for random forest and SGD"
   ]
  },
  {
   "cell_type": "code",
   "execution_count": null,
   "metadata": {},
   "outputs": [],
   "source": [
    "#Evaluation for random forest model using cross validation.\n",
    "rfc_eval = cross_val_score(estimator = rfc, X = X_train, y = y_train, cv = 10)\n",
    "rfc_eval.mean()"
   ]
  }
 ],
 "metadata": {
  "kernelspec": {
   "display_name": "Python 3",
   "language": "python",
   "name": "python3"
  },
  "language_info": {
   "codemirror_mode": {
    "name": "ipython",
    "version": 3
   },
   "file_extension": ".py",
   "mimetype": "text/x-python",
   "name": "python",
   "nbconvert_exporter": "python",
   "pygments_lexer": "ipython3",
   "version": "3.7.0"
  }
 },
 "nbformat": 4,
 "nbformat_minor": 2
}
