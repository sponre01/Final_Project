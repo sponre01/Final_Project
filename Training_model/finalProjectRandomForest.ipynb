{
 "cells": [
  {
   "cell_type": "code",
   "execution_count": 1,
   "metadata": {},
   "outputs": [],
   "source": [
    "import pandas as pd\n",
    "import seaborn as sns\n",
    "import matplotlib.pyplot as plt\n",
    "from sklearn.ensemble import RandomForestClassifier\n",
    "from sklearn.svm import SVC\n",
    "from sklearn.linear_model import SGDClassifier\n",
    "from sklearn.metrics import confusion_matrix, classification_report\n",
    "from sklearn.preprocessing import StandardScaler, LabelEncoder\n",
    "from sklearn.model_selection import train_test_split, GridSearchCV, cross_val_score\n",
    "%matplotlib inline"
   ]
  },
  {
   "cell_type": "code",
   "execution_count": 2,
   "metadata": {},
   "outputs": [],
   "source": [
    "citibikes_2018_spring_file = \"JC-201804-citibike-tripdata.csv\"\n",
    "citibikes_2018_summer_file = \"JC-201808-citibike-tripdata.csv\"\n",
    "citibikes_2018_winter_file = \"JC-201812-citibike-tripdata.csv\"\n",
    "citibikes_2019_spring_file = \"JC-201903-citibike-tripdata.csv\"\n",
    "\n",
    "citibikes_2018_spring_df = pd.read_csv(citibikes_2018_spring_file)\n",
    "citibikes_2018_summer_df = pd.read_csv(citibikes_2018_summer_file)\n",
    "citibikes_2018_winter_df = pd.read_csv(citibikes_2018_winter_file)\n",
    "citibikes_2019_spring_df = pd.read_csv(citibikes_2019_spring_file)\n",
    "\n",
    "citibikes_2018_spring_summer_df = citibikes_2018_spring_df.append(citibikes_2018_summer_df)\n",
    "citibikes_2018_spring_summer_winter_df = citibikes_2018_spring_summer_df.append(citibikes_2018_winter_df)\n",
    "citibikes_2018_2019_spring_df = citibikes_2018_spring_df.append(citibikes_2019_spring_df)\n",
    "bikes_info_df = citibikes_2018_2019_spring_df.append(citibikes_2018_spring_summer_winter_df)\n",
    "#citibikes_2018_2019_spring_df.head()\n",
    "#citibikes_2018_spring_summer_winter_df.head()\n",
    "#bikes_info_df\n",
    "bikes_info = bikes_info_df.drop(columns= [\"start station id\", 'start station name', 'end station id', 'end station name', 'bikeid'])\n",
    "#bikes_info.head()\n",
    "bikes_info_clean = bikes_info.dropna(axis=0)\n",
    "#bikes_info_clean.head()\n",
    "bikes_info_clean.to_csv('bikes_info_clean.csv')\n"
   ]
  },
  {
   "cell_type": "code",
   "execution_count": 3,
   "metadata": {},
   "outputs": [
    {
     "data": {
      "text/plain": [
       "<bound method DataFrame.info of        tripduration                 starttime                  stoptime  \\\n",
       "0              1814  2018-04-01 09:43:51.1590  2018-04-01 10:14:06.1300   \n",
       "1               298  2018-04-01 11:42:53.7090  2018-04-01 11:47:51.8770   \n",
       "2              1060  2018-04-01 12:43:11.9640  2018-04-01 13:00:52.8700   \n",
       "3              1035  2018-04-01 12:43:40.5890  2018-04-01 13:00:55.6620   \n",
       "4               559  2018-04-01 12:56:47.4600  2018-04-01 13:06:06.7710   \n",
       "5               232  2018-04-01 15:29:47.3040  2018-04-01 15:33:39.3650   \n",
       "6               149  2018-04-01 15:43:48.2360  2018-04-01 15:46:17.2380   \n",
       "7              1024  2018-04-01 15:48:56.7600  2018-04-01 16:06:01.4630   \n",
       "8               882  2018-04-01 16:21:50.3390  2018-04-01 16:36:32.4390   \n",
       "9               676  2018-04-01 16:46:24.8250  2018-04-01 16:57:41.3880   \n",
       "10              605  2018-04-01 16:47:47.5510  2018-04-01 16:57:53.5100   \n",
       "11              337  2018-04-01 19:42:28.2020  2018-04-01 19:48:05.5050   \n",
       "12              316  2018-04-01 19:42:59.2770  2018-04-01 19:48:15.6710   \n",
       "13              555  2018-04-01 19:45:32.6400  2018-04-01 19:54:48.3900   \n",
       "14             2080  2018-04-01 19:58:04.3320  2018-04-01 20:32:44.6940   \n",
       "15              378  2018-04-01 20:22:51.6080  2018-04-01 20:29:10.5320   \n",
       "16              253  2018-04-01 23:06:58.3760  2018-04-01 23:11:11.6820   \n",
       "17              363  2018-04-02 14:37:02.8480  2018-04-02 14:43:06.3040   \n",
       "18              264  2018-04-02 15:00:38.2190  2018-04-02 15:05:02.5310   \n",
       "19              625  2018-04-02 15:55:50.9100  2018-04-02 16:06:16.0790   \n",
       "20              237  2018-04-02 16:31:44.4380  2018-04-02 16:35:41.5100   \n",
       "21              291  2018-04-02 16:50:50.2530  2018-04-02 16:55:41.9410   \n",
       "22              487  2018-04-02 16:59:43.7160  2018-04-02 17:07:51.6570   \n",
       "23             1826  2018-04-02 17:00:54.1310  2018-04-02 17:31:20.8080   \n",
       "24              237  2018-04-02 17:20:22.1750  2018-04-02 17:24:19.6700   \n",
       "25              338  2018-04-02 17:21:09.0580  2018-04-02 17:26:47.5540   \n",
       "26              409  2018-04-02 17:27:02.3330  2018-04-02 17:33:51.7130   \n",
       "27               91  2018-04-02 17:28:25.7390  2018-04-02 17:29:56.7430   \n",
       "28              133  2018-04-02 17:29:52.0640  2018-04-02 17:32:05.6480   \n",
       "29              664  2018-04-02 17:31:40.6300  2018-04-02 17:42:45.2450   \n",
       "...             ...                       ...                       ...   \n",
       "20175           747  2018-12-10 20:33:10.0440  2018-12-10 20:45:37.2790   \n",
       "20176          1124  2018-12-11 06:19:14.0610  2018-12-11 06:37:58.7960   \n",
       "20177           648  2018-12-11 12:01:04.1040  2018-12-11 12:11:52.9080   \n",
       "20178           575  2018-12-11 17:46:56.6360  2018-12-11 17:56:31.6520   \n",
       "20179           961  2018-12-12 06:19:04.3900  2018-12-12 06:35:05.8390   \n",
       "20180          2058  2018-12-12 09:09:44.0380  2018-12-12 09:44:02.7900   \n",
       "20181           640  2018-12-12 11:54:45.5290  2018-12-12 12:05:25.7630   \n",
       "20182           934  2018-12-13 06:16:06.7510  2018-12-13 06:31:41.2170   \n",
       "20183           703  2018-12-13 12:17:13.6280  2018-12-13 12:28:57.2350   \n",
       "20184           936  2018-12-14 06:10:18.5060  2018-12-14 06:25:54.6120   \n",
       "20185           668  2018-12-14 12:34:01.0310  2018-12-14 12:45:09.6550   \n",
       "20186           645  2018-12-15 13:31:59.3590  2018-12-15 13:42:45.2030   \n",
       "20187          1396  2018-12-15 16:28:38.1250  2018-12-15 16:51:54.9460   \n",
       "20188           649  2018-12-16 11:55:07.8820  2018-12-16 12:05:57.4260   \n",
       "20189           984  2018-12-17 06:26:18.2690  2018-12-17 06:42:42.9330   \n",
       "20190           687  2018-12-17 12:18:47.1320  2018-12-17 12:30:14.5090   \n",
       "20191           726  2018-12-17 17:38:45.4430  2018-12-17 17:50:52.4320   \n",
       "20192          1041  2018-12-18 06:21:57.7450  2018-12-18 06:39:19.7440   \n",
       "20193           654  2018-12-18 12:12:40.2980  2018-12-18 12:23:34.4020   \n",
       "20194          1015  2018-12-19 06:15:11.2330  2018-12-19 06:32:06.2450   \n",
       "20195           667  2018-12-19 11:39:50.4270  2018-12-19 11:50:58.2750   \n",
       "20196           687  2018-12-20 13:28:39.0590  2018-12-20 13:40:06.6410   \n",
       "20197           625  2018-12-21 12:05:04.3890  2018-12-21 12:15:29.5930   \n",
       "20198           826  2018-12-21 16:34:37.2330  2018-12-21 16:48:24.0150   \n",
       "20199           640  2018-12-22 10:27:40.6590  2018-12-22 10:38:21.4170   \n",
       "20200          1081  2018-12-22 11:51:46.0600  2018-12-22 12:09:47.4730   \n",
       "20201           344  2018-12-25 21:40:09.8660  2018-12-25 21:45:54.2670   \n",
       "20202          1233  2018-12-29 12:55:45.9690  2018-12-29 13:16:19.5960   \n",
       "20203          1057  2018-12-30 15:32:09.3320  2018-12-30 15:49:46.3510   \n",
       "20204           301  2018-12-31 16:34:11.9340  2018-12-31 16:39:13.8340   \n",
       "\n",
       "       start station latitude  start station longitude  end station latitude  \\\n",
       "0                   40.716247               -74.033459             40.724294   \n",
       "1                   40.716247               -74.033459             40.721124   \n",
       "2                   40.716247               -74.033459             40.711242   \n",
       "3                   40.716247               -74.033459             40.711242   \n",
       "4                   40.716247               -74.033459             40.728745   \n",
       "5                   40.716247               -74.033459             40.712419   \n",
       "6                   40.716247               -74.033459             40.719252   \n",
       "7                   40.716247               -74.033459             40.723332   \n",
       "8                   40.716247               -74.033459             40.724294   \n",
       "9                   40.716247               -74.033459             40.721525   \n",
       "10                  40.716247               -74.033459             40.721525   \n",
       "11                  40.716247               -74.033459             40.712419   \n",
       "12                  40.716247               -74.033459             40.712419   \n",
       "13                  40.716247               -74.033459             40.712419   \n",
       "14                  40.716247               -74.033459             40.716247   \n",
       "15                  40.716247               -74.033459             40.712419   \n",
       "16                  40.716247               -74.033459             40.714584   \n",
       "17                  40.716247               -74.033459             40.721525   \n",
       "18                  40.716247               -74.033459             40.712774   \n",
       "19                  40.716247               -74.033459             40.712774   \n",
       "20                  40.716247               -74.033459             40.712419   \n",
       "21                  40.716247               -74.033459             40.712419   \n",
       "22                  40.716247               -74.033459             40.727596   \n",
       "23                  40.716247               -74.033459             40.745910   \n",
       "24                  40.716247               -74.033459             40.712774   \n",
       "25                  40.716247               -74.033459             40.721525   \n",
       "26                  40.716247               -74.033459             40.721651   \n",
       "27                  40.716247               -74.033459             40.714145   \n",
       "28                  40.716247               -74.033459             40.718355   \n",
       "29                  40.716247               -74.033459             40.725340   \n",
       "...                       ...                      ...                   ...   \n",
       "20175               40.711130               -74.078900             40.725340   \n",
       "20176               40.711130               -74.078900             40.716247   \n",
       "20177               40.711130               -74.078900             40.730743   \n",
       "20178               40.711130               -74.078900             40.718211   \n",
       "20179               40.711130               -74.078900             40.716247   \n",
       "20180               40.711130               -74.078900             40.711130   \n",
       "20181               40.711130               -74.078900             40.730743   \n",
       "20182               40.711130               -74.078900             40.716247   \n",
       "20183               40.711130               -74.078900             40.730743   \n",
       "20184               40.711130               -74.078900             40.716247   \n",
       "20185               40.711130               -74.078900             40.730743   \n",
       "20186               40.711130               -74.078900             40.730743   \n",
       "20187               40.711130               -74.078900             40.721630   \n",
       "20188               40.711130               -74.078900             40.730743   \n",
       "20189               40.711130               -74.078900             40.716247   \n",
       "20190               40.711130               -74.078900             40.730743   \n",
       "20191               40.711130               -74.078900             40.725340   \n",
       "20192               40.711130               -74.078900             40.716247   \n",
       "20193               40.711130               -74.078900             40.730743   \n",
       "20194               40.711130               -74.078900             40.716247   \n",
       "20195               40.711130               -74.078900             40.730743   \n",
       "20196               40.711130               -74.078900             40.730743   \n",
       "20197               40.711130               -74.078900             40.730743   \n",
       "20198               40.711130               -74.078900             40.719586   \n",
       "20199               40.711130               -74.078900             40.730743   \n",
       "20200               40.711130               -74.078900             40.726012   \n",
       "20201               40.711130               -74.078900             40.719282   \n",
       "20202               40.711130               -74.078900             40.719586   \n",
       "20203               40.711130               -74.078900             40.718489   \n",
       "20204               40.711130               -74.078900             40.714358   \n",
       "\n",
       "       end station longitude    usertype  birth year  gender  \n",
       "0                 -74.035483  Subscriber        1978       1  \n",
       "1                 -74.038051  Subscriber        1979       1  \n",
       "2                 -74.055701  Subscriber        1972       1  \n",
       "3                 -74.055701  Subscriber        1983       1  \n",
       "4                 -74.032108  Subscriber        1989       1  \n",
       "5                 -74.038526  Subscriber        1990       1  \n",
       "6                 -74.034234  Subscriber        1988       1  \n",
       "7                 -74.045953    Customer        1969       0  \n",
       "8                 -74.035483    Customer        1992       1  \n",
       "9                 -74.046305    Customer        1969       0  \n",
       "10                -74.046305    Customer        1969       0  \n",
       "11                -74.038526  Subscriber        1991       1  \n",
       "12                -74.038526  Subscriber        1990       1  \n",
       "13                -74.038526  Subscriber        1990       1  \n",
       "14                -74.033459  Subscriber        1988       1  \n",
       "15                -74.038526  Subscriber        1977       1  \n",
       "16                -74.042817  Subscriber        1994       1  \n",
       "17                -74.046305  Subscriber        1981       2  \n",
       "18                -74.036486  Subscriber        1979       2  \n",
       "19                -74.036486  Subscriber        1970       1  \n",
       "20                -74.038526  Subscriber        1971       1  \n",
       "21                -74.038526  Subscriber        1983       1  \n",
       "22                -74.044247  Subscriber        1953       2  \n",
       "23                -74.057271  Subscriber        1976       1  \n",
       "24                -74.036486  Subscriber        1980       1  \n",
       "25                -74.046305  Subscriber        1981       1  \n",
       "26                -74.042884  Subscriber        1980       1  \n",
       "27                -74.033552  Subscriber        1989       1  \n",
       "28                -74.038914  Subscriber        1981       1  \n",
       "29                -74.067622  Subscriber        1989       1  \n",
       "...                      ...         ...         ...     ...  \n",
       "20175             -74.067622  Subscriber        1958       1  \n",
       "20176             -74.033459  Subscriber        1977       1  \n",
       "20177             -74.063784  Subscriber        1994       1  \n",
       "20178             -74.083639  Subscriber        1958       1  \n",
       "20179             -74.033459  Subscriber        1977       1  \n",
       "20180             -74.078900  Subscriber        1957       1  \n",
       "20181             -74.063784  Subscriber        1994       1  \n",
       "20182             -74.033459  Subscriber        1977       1  \n",
       "20183             -74.063784  Subscriber        1994       1  \n",
       "20184             -74.033459  Subscriber        1977       1  \n",
       "20185             -74.063784  Subscriber        1994       1  \n",
       "20186             -74.063784  Subscriber        1994       1  \n",
       "20187             -74.049968  Subscriber        1988       2  \n",
       "20188             -74.063784  Subscriber        1994       1  \n",
       "20189             -74.033459  Subscriber        1977       1  \n",
       "20190             -74.063784  Subscriber        1994       1  \n",
       "20191             -74.067622  Subscriber        1973       2  \n",
       "20192             -74.033459  Subscriber        1977       1  \n",
       "20193             -74.063784  Subscriber        1994       1  \n",
       "20194             -74.033459  Subscriber        1977       1  \n",
       "20195             -74.063784  Subscriber        1994       1  \n",
       "20196             -74.063784  Subscriber        1994       1  \n",
       "20197             -74.063784  Subscriber        1994       1  \n",
       "20198             -74.043117  Subscriber        1991       1  \n",
       "20199             -74.063784  Subscriber        1994       1  \n",
       "20200             -74.050389  Subscriber        1993       1  \n",
       "20201             -74.071262  Subscriber        1983       2  \n",
       "20202             -74.043117  Subscriber        1988       1  \n",
       "20203             -74.047727  Subscriber        1991       2  \n",
       "20204             -74.066611  Subscriber        1991       1  \n",
       "\n",
       "[135511 rows x 10 columns]>"
      ]
     },
     "execution_count": 3,
     "metadata": {},
     "output_type": "execute_result"
    }
   ],
   "source": [
    "bikes_info_clean.info"
   ]
  },
  {
   "cell_type": "code",
   "execution_count": 4,
   "metadata": {},
   "outputs": [
    {
     "name": "stderr",
     "output_type": "stream",
     "text": [
      "/anaconda3/lib/python3.7/site-packages/scipy/stats/stats.py:1713: FutureWarning: Using a non-tuple sequence for multidimensional indexing is deprecated; use `arr[tuple(seq)]` instead of `arr[seq]`. In the future this will be interpreted as an array index, `arr[np.array(seq)]`, which will result either in an error or a different result.\n",
      "  return np.add.reduce(sorted[indexer] * weights, axis=axis) / sumval\n"
     ]
    },
    {
     "data": {
      "text/plain": [
       "<matplotlib.axes._subplots.AxesSubplot at 0x10a841550>"
      ]
     },
     "execution_count": 4,
     "metadata": {},
     "output_type": "execute_result"
    },
    {
     "data": {
      "image/png": "[encoded data removed]",
      "text/plain": [
       "<Figure size 720x432 with 1 Axes>"
      ]
     },
     "metadata": {
      "needs_background": "light"
     },
     "output_type": "display_data"
    }
   ],
   "source": [
    "fig = plt.figure(figsize = (10,6))\n",
    "sns.barplot(x = 'tripduration', y = 'birth year', data = bikes_info_clean)"
   ]
  },
  {
   "cell_type": "code",
   "execution_count": null,
   "metadata": {},
   "outputs": [
    {
     "data": {
      "text/plain": [
       "<matplotlib.axes._subplots.AxesSubplot at 0x1a1c2f1b00>"
      ]
     },
     "execution_count": 5,
     "metadata": {},
     "output_type": "execute_result"
    },
    {
     "data": {
      "image/png": "[encoded data removed]",
      "text/plain": [
       "<Figure size 720x432 with 1 Axes>"
      ]
     },
     "metadata": {
      "needs_background": "light"
     },
     "output_type": "display_data"
    }
   ],
   "source": [
    "fig = plt.figure(figsize = (10,6))\n",
    "sns.barplot(x = 'tripduration', y = 'gender', data = bikes_info_clean)"
   ]
  },
  {
   "cell_type": "code",
   "execution_count": null,
   "metadata": {},
   "outputs": [
    {
     "data": {
      "text/plain": [
       "<matplotlib.axes._subplots.AxesSubplot at 0x1a2df68160>"
      ]
     },
     "execution_count": 6,
     "metadata": {},
     "output_type": "execute_result"
    },
    {
     "data": {
      "image/png": "[encoded data removed]",
      "text/plain": [
       "<Figure size 720x432 with 1 Axes>"
      ]
     },
     "metadata": {
      "needs_background": "light"
     },
     "output_type": "display_data"
    }
   ],
   "source": [
    "fig = plt.figure(figsize = (10,6))\n",
    "sns.barplot(x = 'tripduration', y = 'usertype', data = bikes_info_clean)"
   ]
  },
  {
   "cell_type": "code",
   "execution_count": null,
   "metadata": {},
   "outputs": [],
   "source": [
    "fig = plt.figure(figsize = (10,6))\n",
    "sns.barplot(x = 'tripduration', y = 'starttime', data = bikes_info_clean)"
   ]
  },
  {
   "cell_type": "code",
   "execution_count": null,
   "metadata": {},
   "outputs": [],
   "source": [
    "fig = plt.figure(figsize = (10,6))\n",
    "sns.barplot(x = 'gender', y = 'starttime', data = bikes_info_clean)"
   ]
  },
  {
   "cell_type": "code",
   "execution_count": null,
   "metadata": {},
   "outputs": [],
   "source": [
    "#Making binary classificaion for the response variable.\n",
    "#Dividing birth year as under20,30,40,....,80, over 80 and bad by giving the limit for the quality\n",
    "bins = (20, 30, 40,50,60,70,80,150)\n",
    "group_names = ['Under 20', '30s', '40s','50s', '60s','70s', '80s', 'Over 80']\n",
    "bikes_info_clean['birth year'] = pd.cut(bikes_info_clean['birth year'], bins = bins, labels = group_names)"
   ]
  },
  {
   "cell_type": "code",
   "execution_count": null,
   "metadata": {},
   "outputs": [],
   "source": [
    "#assign a labels to our quality variable\n",
    "label_quality = LabelEncoder()"
   ]
  },
  {
   "cell_type": "code",
   "execution_count": null,
   "metadata": {},
   "outputs": [],
   "source": [
    "#Bad becomes 0 and good becomes 1 \n",
    "bikes_info_clean['birth year'] = label_quality.fit_transform(bikes_info_clean['birth year'])"
   ]
  },
  {
   "cell_type": "code",
   "execution_count": null,
   "metadata": {},
   "outputs": [],
   "source": [
    "bikes_info_clean['birth year'].value_counts()"
   ]
  },
  {
   "cell_type": "code",
   "execution_count": null,
   "metadata": {},
   "outputs": [],
   "source": [
    "sns.countplot(bikes_info_clean['birth year'])"
   ]
  },
  {
   "cell_type": "code",
   "execution_count": null,
   "metadata": {},
   "outputs": [],
   "source": [
    "#Now seperate the dataset as response variable and feature variabes\n",
    "X = bikes_info_clean.drop('birth year', axis = 1)\n",
    "y = bikes_info_clean['birth year']"
   ]
  },
  {
   "cell_type": "code",
   "execution_count": null,
   "metadata": {},
   "outputs": [],
   "source": [
    "#Train and Test splitting of data \n",
    "X_train, X_test, y_train, y_test = train_test_split(X, y, test_size = 0.2, random_state = 42)"
   ]
  },
  {
   "cell_type": "code",
   "execution_count": null,
   "metadata": {},
   "outputs": [],
   "source": [
    "#Applying Standard scaling to get optimized result\n",
    "sc = StandardScaler()"
   ]
  },
  {
   "cell_type": "code",
   "execution_count": null,
   "metadata": {},
   "outputs": [],
   "source": [
    "X_train = sc.fit_transform(X_train)\n",
    "X_test = sc.fit_transform(X_test)"
   ]
  },
  {
   "cell_type": "markdown",
   "metadata": {},
   "source": [
    "Random Forest Classifier"
   ]
  },
  {
   "cell_type": "code",
   "execution_count": null,
   "metadata": {},
   "outputs": [],
   "source": [
    "rfc = RandomForestClassifier(n_estimators=200)\n",
    "rfc.fit(X_train, y_train)\n",
    "pred_rfc = rfc.predict(X_test)"
   ]
  },
  {
   "cell_type": "code",
   "execution_count": null,
   "metadata": {},
   "outputs": [],
   "source": [
    "#see how our model performed\n",
    "print(classification_report(y_test, pred_rfc))"
   ]
  },
  {
   "cell_type": "code",
   "execution_count": null,
   "metadata": {},
   "outputs": [],
   "source": [
    "#Confusion matrix for the random forest classification\n",
    "print(confusion_matrix(y_test, pred_rfc))"
   ]
  },
  {
   "cell_type": "code",
   "execution_count": null,
   "metadata": {},
   "outputs": [],
   "source": [
    "sgd = SGDClassifier(penalty=None)\n",
    "sgd.fit(X_train, y_train)\n",
    "pred_sgd = sgd.predict(X_test)"
   ]
  },
  {
   "cell_type": "code",
   "execution_count": null,
   "metadata": {},
   "outputs": [],
   "source": [
    "print(classification_report(y_test, pred_sgd))"
   ]
  },
  {
   "cell_type": "code",
   "execution_count": null,
   "metadata": {},
   "outputs": [],
   "source": [
    "print(confusion_matrix(y_test, pred_sgd))"
   ]
  },
  {
   "cell_type": "markdown",
   "metadata": {},
   "source": [
    "Support Vector Classifier\n"
   ]
  },
  {
   "cell_type": "code",
   "execution_count": null,
   "metadata": {},
   "outputs": [],
   "source": [
    "svc = SVC()\n",
    "svc.fit(X_train, y_train)\n",
    "pred_svc = svc.predict(X_test)"
   ]
  },
  {
   "cell_type": "code",
   "execution_count": null,
   "metadata": {},
   "outputs": [],
   "source": [
    "print(classification_report(y_test, pred_svc))"
   ]
  },
  {
   "cell_type": "markdown",
   "metadata": {},
   "source": [
    "to increase our accuracy of models\n",
    "Grid Search CV"
   ]
  },
  {
   "cell_type": "code",
   "execution_count": null,
   "metadata": {},
   "outputs": [],
   "source": [
    "#Finding best parameters for our SVC model =========> NEEDS TWEEKING\n",
    "param = {\n",
    "    'C': [0.1,0.8,0.9,1,1.1,1.2,1.3,1.4],\n",
    "    'kernel':['linear', 'rbf'],\n",
    "    'gamma' :[0.1,0.8,0.9,1,1.1,1.2,1.3,1.4]\n",
    "}\n",
    "grid_svc = GridSearchCV(svc, param_grid=param, scoring='accuracy', cv=10)"
   ]
  },
  {
   "cell_type": "code",
   "execution_count": null,
   "metadata": {},
   "outputs": [],
   "source": [
    "grid_svc.fit(X_train, y_train)"
   ]
  },
  {
   "cell_type": "code",
   "execution_count": null,
   "metadata": {},
   "outputs": [],
   "source": [
    "#Best parameters for our svc model\n",
    "grid_svc.best_params_"
   ]
  },
  {
   "cell_type": "code",
   "execution_count": null,
   "metadata": {},
   "outputs": [],
   "source": [
    "#run  SVC again with the best parameters.\n",
    "svc2 = SVC(C = 1.2, gamma =  0.9, kernel= 'rbf')\n",
    "svc2.fit(X_train, y_train)\n",
    "pred_svc2 = svc2.predict(X_test)\n",
    "print(classification_report(y_test, pred_svc2))"
   ]
  },
  {
   "cell_type": "markdown",
   "metadata": {},
   "source": [
    "Cross Validation Score for random forest and SGD"
   ]
  },
  {
   "cell_type": "code",
   "execution_count": null,
   "metadata": {},
   "outputs": [],
   "source": [
    "#Evaluation for random forest model using cross validation.\n",
    "rfc_eval = cross_val_score(estimator = rfc, X = X_train, y = y_train, cv = 10)\n",
    "rfc_eval.mean()"
   ]
  }
 ],
 "metadata": {
  "kernelspec": {
   "display_name": "Python 3",
   "language": "python",
   "name": "python3"
  },
  "language_info": {
   "codemirror_mode": {
    "name": "ipython",
    "version": 3
   },
   "file_extension": ".py",
   "mimetype": "text/x-python",
   "name": "python",
   "nbconvert_exporter": "python",
   "pygments_lexer": "ipython3",
   "version": "3.7.1"
  }
 },
 "nbformat": 4,
 "nbformat_minor": 2
}
